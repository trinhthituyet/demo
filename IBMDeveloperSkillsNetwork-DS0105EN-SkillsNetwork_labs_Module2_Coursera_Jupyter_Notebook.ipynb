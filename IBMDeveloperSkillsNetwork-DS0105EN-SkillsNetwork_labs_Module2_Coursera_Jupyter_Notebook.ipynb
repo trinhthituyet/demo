{
  "metadata": {
    "kernelspec": {
      "name": "python",
      "display_name": "Pyolite",
      "language": "python"
    },
    "language_info": {
      "codemirror_mode": {
        "name": "python",
        "version": 3
      },
      "file_extension": ".py",
      "mimetype": "text/x-python",
      "name": "python",
      "nbconvert_exporter": "python",
      "pygments_lexer": "ipython3",
      "version": "3.8"
    }
  },
  "nbformat_minor": 4,
  "nbformat": 4,
  "cells": [
    {
      "cell_type": "markdown",
      "source": "<center>\n    <img src=\"https://cf-courses-data.s3.us.cloud-object-storage.appdomain.cloud/IBMDeveloperSkillsNetwork-DS0105EN-SkillsNetwork/labs/Module2/images/SN_web_lightmode.png\" width=\"300\" alt=\"cognitiveclass.ai logo\"  />\n</center>\n",
      "metadata": {}
    },
    {
      "cell_type": "markdown",
      "source": "#### Add your code below following the instructions given in the course\n",
      "metadata": {}
    },
    {
      "cell_type": "markdown",
      "source": "# My Jupyter Notebook on IBM Watson Studio",
      "metadata": {}
    },
    {
      "cell_type": "markdown",
      "source": "**Trinh Thi Tuyet**.\n\nSoftware Engineer",
      "metadata": {}
    },
    {
      "cell_type": "markdown",
      "source": "*I am interested in data science because I want to analyze and make prediction on data*",
      "metadata": {}
    },
    {
      "cell_type": "markdown",
      "source": "### The below code will print some messages",
      "metadata": {}
    },
    {
      "cell_type": "code",
      "source": "print(\"I also loving cooking and will put Beef Spaghetti ingredients here\")",
      "metadata": {
        "trusted": true
      },
      "execution_count": 7,
      "outputs": [
        {
          "name": "stdout",
          "text": "I also loving cooking and will put Beef Spaghetti ingredients here\n",
          "output_type": "stream"
        }
      ]
    },
    {
      "cell_type": "markdown",
      "source": "---\n1. Cooking ingredients:\n- pound ground beef\n\n- medium onion, chopped\n\n- cloves garlic, minced\n\n- small green bell pepper, diced\n\n- (28 ounce) can diced tomatoes\n\n- (16 ounce) can tomato sauce\n\n- (6 ounce) can tomato paste\n\n- teaspoons dried oregano\n\n- teaspoons dried basil\n\n- teaspoon salt\n\n- teaspoon ground black pepper\n---\n2. Directions:\n- Combine ground beef, onion, garlic, and green pepper in a large saucepan over medium-high heat. Cook and stir until meat is browned and crumbly and vegetables are tender, 5 to 7 minutes. Drain grease.\n- Stir diced tomatoes, tomato sauce, and tomato paste into the pan. Season with oregano, basil, salt, and pepper. Simmer spaghetti sauce for 1 hour, stirring occasionally.\n\n![alt text](https://www.allrecipes.com/thmb/IqGE_n_mpjKnUzbWLV3nA_PbK70=/750x0/filters:no_upscale():max_bytes(150000):strip_icc():format(webp)/667748_Spaghetti-Sauce-with-Ground-Beef_158140_-Photo-by-Sherri-b9bcc8ba2df44574ba8b4337586dd4aa.jpg \"Logo Title Text 1\")\n\n---\n*References*: http://www.allrecipes.com/recipe/158140/spaghetti-sauce-with-ground-beef/",
      "metadata": {}
    },
    {
      "cell_type": "code",
      "source": "",
      "metadata": {},
      "execution_count": null,
      "outputs": []
    }
  ]
}